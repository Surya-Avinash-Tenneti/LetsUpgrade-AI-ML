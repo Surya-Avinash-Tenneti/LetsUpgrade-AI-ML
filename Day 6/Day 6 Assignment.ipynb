{
 "cells": [
  {
   "cell_type": "markdown",
   "metadata": {},
   "source": [
    "__Question 1:__\n",
    "Assuming that we have some email addresses in the \"username@companyname.com\" format, please write program\n",
    "to print the company name of a given email address. Both user names and company names are composed of letters\n",
    "only."
   ]
  },
  {
   "cell_type": "code",
   "execution_count": 11,
   "metadata": {},
   "outputs": [
    {
     "name": "stdout",
     "output_type": "stream",
     "text": [
      "Enter the email address:john@google.com\n",
      "Company name of given email address: google\n"
     ]
    }
   ],
   "source": [
    "str1 = input(\"Enter the email address:\")\n",
    "print(\"Company name of given email address:\",str1.split(\"@\")[1].split(\".\")[0])"
   ]
  },
  {
   "cell_type": "markdown",
   "metadata": {},
   "source": [
    "__Question 2:__\n",
    "Write a program that accepts a comma-separated sequence of words as input and prints the words in a comma\n",
    "separated sequence after sorting them alphabetically.\n"
   ]
  },
  {
   "cell_type": "code",
   "execution_count": 18,
   "metadata": {},
   "outputs": [
    {
     "name": "stdout",
     "output_type": "stream",
     "text": [
      "without,hello,bag,world\n",
      "bag,hello,without,world,"
     ]
    }
   ],
   "source": [
    "list1 = list(input().split(\",\"))\n",
    "list1.sort()\n",
    "# print(list1)\n",
    "for i in list1:\n",
    "    print(i, end =\",\")"
   ]
  },
  {
   "cell_type": "markdown",
   "metadata": {},
   "source": [
    "__Question 3:__\n",
    "Create your own Jupyter Notebook for Sets.\n",
    "Reference link: https://www.w3schools.com/python/python_sets.asp"
   ]
  },
  {
   "cell_type": "markdown",
   "metadata": {},
   "source": [
    "__Set__ is a collection that is unordered and does not allow duplicates"
   ]
  },
  {
   "cell_type": "code",
   "execution_count": 72,
   "metadata": {},
   "outputs": [
    {
     "name": "stdout",
     "output_type": "stream",
     "text": [
      "{1, 2, 3, 4, 5, 6}\n"
     ]
    }
   ],
   "source": [
    "set1 = {1,2,3,4,5,6,6,6,5}\n",
    "print(set1)"
   ]
  },
  {
   "cell_type": "code",
   "execution_count": 73,
   "metadata": {},
   "outputs": [
    {
     "name": "stdout",
     "output_type": "stream",
     "text": [
      "True\n"
     ]
    }
   ],
   "source": [
    "#To know if an item is in the set\n",
    "print(1 in set1)"
   ]
  },
  {
   "cell_type": "code",
   "execution_count": 76,
   "metadata": {},
   "outputs": [
    {
     "name": "stdout",
     "output_type": "stream",
     "text": [
      "1 2 3 4 5 6 "
     ]
    }
   ],
   "source": [
    "#To print the items in set\n",
    "for i in set1:\n",
    "    print(i, end=\" \")"
   ]
  },
  {
   "cell_type": "code",
   "execution_count": 78,
   "metadata": {},
   "outputs": [
    {
     "name": "stdout",
     "output_type": "stream",
     "text": [
      "{1, 2, 3, 4, 5, 6, 'letsupgrade'}\n"
     ]
    }
   ],
   "source": [
    "#adding single item to set\n",
    "set1.add('letsupgrade')\n",
    "print(set1)"
   ]
  },
  {
   "cell_type": "code",
   "execution_count": 83,
   "metadata": {},
   "outputs": [
    {
     "name": "stdout",
     "output_type": "stream",
     "text": [
      "{'ML', 1, 2, 3, 4, 5, 6, 'AI', 'letsupgrade'}\n"
     ]
    }
   ],
   "source": [
    "#adding multiple items to set\n",
    "set1.update([\"AI\",\"ML\"])\n",
    "print(set1)"
   ]
  },
  {
   "cell_type": "code",
   "execution_count": 84,
   "metadata": {},
   "outputs": [
    {
     "name": "stdout",
     "output_type": "stream",
     "text": [
      "{1, 2, 3, 4, 5, 6, 'AI', 'letsupgrade'}\n"
     ]
    }
   ],
   "source": [
    "#Removing an item\n",
    "set1.remove(\"ML\")\n",
    "print(set1)\n",
    "#set1.remove(\"ML\") throws an error as ML is already removed\n"
   ]
  },
  {
   "cell_type": "code",
   "execution_count": 85,
   "metadata": {},
   "outputs": [
    {
     "name": "stdout",
     "output_type": "stream",
     "text": [
      "{1, 2, 3, 4, 5, 6, 'letsupgrade'}\n"
     ]
    }
   ],
   "source": [
    "#Discarding an item\n",
    "set1.discard(\"AI\")\n",
    "print(set1)\n",
    "#set1.discard(\"AI\") does not throw error even AI is discarded"
   ]
  },
  {
   "cell_type": "code",
   "execution_count": 87,
   "metadata": {},
   "outputs": [
    {
     "name": "stdout",
     "output_type": "stream",
     "text": [
      "set()\n"
     ]
    }
   ],
   "source": [
    "#Clearing the set gives an empty set\n",
    "set1.clear()\n",
    "print(set1)"
   ]
  },
  {
   "cell_type": "code",
   "execution_count": 92,
   "metadata": {},
   "outputs": [],
   "source": [
    "#deleting the set completely erases the set \n",
    "del set1\n",
    "#print(set1) # --> throws an error as set1 is deleted"
   ]
  },
  {
   "cell_type": "code",
   "execution_count": 91,
   "metadata": {},
   "outputs": [
    {
     "name": "stdout",
     "output_type": "stream",
     "text": [
      "{1, 2, 3, 4, 5, 6, 7, 8}\n",
      "{8, 1, 7}\n",
      "{4, 5}\n"
     ]
    }
   ],
   "source": [
    "#Union, difference, intersection\n",
    "set1 = {1,4,7,8,5}\n",
    "set2 = {2,3,5,4,6}\n",
    "print(set1.union(set2))\n",
    "print(set1.difference(set2))\n",
    "print(set1.intersection(set2))\n"
   ]
  },
  {
   "cell_type": "markdown",
   "metadata": {},
   "source": [
    "__Question 4:__\n",
    "Given a list of n-1 numbers ranging from 1 to n, your task is to find the missing number. There are no duplicates."
   ]
  },
  {
   "cell_type": "code",
   "execution_count": 64,
   "metadata": {},
   "outputs": [
    {
     "name": "stdout",
     "output_type": "stream",
     "text": [
      "1 2 3 4 5 6 7 8 9 10 11 13 14 15\n",
      "12 "
     ]
    }
   ],
   "source": [
    "list1 = list((input().split(\" \")))\n",
    "list2 = list(range(1,len(list1)+1))\n",
    "list3 = []\n",
    "for i in list1:\n",
    "    i = int(i)\n",
    "    list3.append(i)\n",
    "set1 = set(list2)\n",
    "set2 = set(list3)\n",
    "set3 = (set1-set2)\n",
    "for j in set3:\n",
    "    print(j, end=\" \")\n",
    "\n",
    "    "
   ]
  },
  {
   "cell_type": "markdown",
   "metadata": {},
   "source": [
    "__Question 5:__\n",
    "With a given list L, write a program to print this list L after removing all duplicate values with original order reserved."
   ]
  },
  {
   "cell_type": "code",
   "execution_count": 71,
   "metadata": {},
   "outputs": [
    {
     "name": "stdout",
     "output_type": "stream",
     "text": [
      "12 24 35 24 88 120 155 88 120 155\n",
      "12 24 35 88 120 155 "
     ]
    }
   ],
   "source": [
    "L = list((input().split(\" \")))\n",
    "A = []\n",
    "for a in L:\n",
    "    if a not in A:\n",
    "        A.append(a)\n",
    "        print(int(a), end =\" \")"
   ]
  },
  {
   "cell_type": "code",
   "execution_count": null,
   "metadata": {},
   "outputs": [],
   "source": []
  },
  {
   "cell_type": "code",
   "execution_count": null,
   "metadata": {},
   "outputs": [],
   "source": []
  }
 ],
 "metadata": {
  "kernelspec": {
   "display_name": "Python 3",
   "language": "python",
   "name": "python3"
  },
  "language_info": {
   "codemirror_mode": {
    "name": "ipython",
    "version": 3
   },
   "file_extension": ".py",
   "mimetype": "text/x-python",
   "name": "python",
   "nbconvert_exporter": "python",
   "pygments_lexer": "ipython3",
   "version": "3.7.4"
  }
 },
 "nbformat": 4,
 "nbformat_minor": 2
}
